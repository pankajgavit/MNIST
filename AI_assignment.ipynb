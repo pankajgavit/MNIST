{
  "nbformat": 4,
  "nbformat_minor": 0,
  "metadata": {
    "colab": {
      "name": "AI_assignment.ipynb",
      "version": "0.3.2",
      "views": {},
      "default_view": {},
      "provenance": [],
      "collapsed_sections": []
    },
    "kernelspec": {
      "name": "python3",
      "display_name": "Python 3"
    },
    "accelerator": "GPU"
  },
  "cells": [
    {
      "metadata": {
        "id": "3EQWf-LtjC6u",
        "colab_type": "text"
      },
      "cell_type": "markdown",
      "source": [
        "**Importing Packages**"
      ]
    },
    {
      "metadata": {
        "id": "5z4SH0zb13IG",
        "colab_type": "code",
        "colab": {
          "autoexec": {
            "startup": false,
            "wait_interval": 0
          }
        }
      },
      "cell_type": "code",
      "source": [
        "import numpy as np\n",
        "import matplotlib\n",
        "import matplotlib.pyplot as plt\n",
        "\n",
        "from keras.datasets import mnist\n",
        "from keras.models import Sequential, load_model\n",
        "from keras.layers.core import Dense, Dropout, Activation\n",
        "from keras.utils import np_utils"
      ],
      "execution_count": 0,
      "outputs": []
    },
    {
      "metadata": {
        "id": "5m0O8HNajU91",
        "colab_type": "text"
      },
      "cell_type": "markdown",
      "source": [
        "**Preparing Dataset**"
      ]
    },
    {
      "metadata": {
        "id": "V6NxVd5tC418",
        "colab_type": "code",
        "colab": {
          "autoexec": {
            "startup": false,
            "wait_interval": 0
          }
        }
      },
      "cell_type": "code",
      "source": [
        "(X_train, y_train), (X_test, y_test) = mnist.load_data()"
      ],
      "execution_count": 0,
      "outputs": []
    },
    {
      "metadata": {
        "id": "crbXUkPUjluU",
        "colab_type": "text"
      },
      "cell_type": "markdown",
      "source": [
        "**Normalizing the input data**"
      ]
    },
    {
      "metadata": {
        "id": "hdB78qvhDBCy",
        "colab_type": "code",
        "colab": {
          "autoexec": {
            "startup": false,
            "wait_interval": 0
          },
          "output_extras": [
            {
              "item_id": 1
            }
          ],
          "base_uri": "https://localhost:8080/",
          "height": 51
        },
        "outputId": "3326b16d-1b95-41ea-d28a-8dc38ac69378",
        "executionInfo": {
          "status": "ok",
          "timestamp": 1519823987164,
          "user_tz": -330,
          "elapsed": 2378,
          "user": {
            "displayName": "Pankaj Gavit",
            "photoUrl": "//lh4.googleusercontent.com/-N2TUe0WcZsk/AAAAAAAAAAI/AAAAAAAAAYU/ybaY7zkG-tU/s50-c-k-no/photo.jpg",
            "userId": "109139722584768441610"
          }
        }
      },
      "cell_type": "code",
      "source": [
        "# building the input vector from the 28x28 pixels\n",
        "X_train = X_train.reshape(60000, 784)\n",
        "X_test = X_test.reshape(10000, 784)\n",
        "X_train = X_train.astype('float32')\n",
        "X_test = X_test.astype('float32')\n",
        "\n",
        "# normalizing the data to help with the training\n",
        "X_train /= 255\n",
        "X_test /= 255\n",
        "\n",
        "# print the final input shape ready for training\n",
        "print(\"Train matrix shape\", X_train.shape)\n",
        "print(\"Test matrix shape\", X_test.shape)"
      ],
      "execution_count": 14,
      "outputs": [
        {
          "output_type": "stream",
          "text": [
            "Train matrix shape (60000, 784)\n",
            "Test matrix shape (10000, 784)\n"
          ],
          "name": "stdout"
        }
      ]
    },
    {
      "metadata": {
        "id": "wxXY6z2ljt47",
        "colab_type": "text"
      },
      "cell_type": "markdown",
      "source": [
        "**One-hot encoding**"
      ]
    },
    {
      "metadata": {
        "id": "H-zZedzZDO-I",
        "colab_type": "code",
        "colab": {
          "autoexec": {
            "startup": false,
            "wait_interval": 0
          },
          "output_extras": [
            {
              "item_id": 1
            }
          ],
          "base_uri": "https://localhost:8080/",
          "height": 51
        },
        "outputId": "a773b7ce-fb31-4f00-9ef5-99962c270b70",
        "executionInfo": {
          "status": "ok",
          "timestamp": 1519823988406,
          "user_tz": -330,
          "elapsed": 915,
          "user": {
            "displayName": "Pankaj Gavit",
            "photoUrl": "//lh4.googleusercontent.com/-N2TUe0WcZsk/AAAAAAAAAAI/AAAAAAAAAYU/ybaY7zkG-tU/s50-c-k-no/photo.jpg",
            "userId": "109139722584768441610"
          }
        }
      },
      "cell_type": "code",
      "source": [
        "# one-hot encoding using keras' numpy-related utilities\n",
        "n_classes = 10\n",
        "print(\"Shape before one-hot encoding: \", y_train.shape)\n",
        "Y_train = np_utils.to_categorical(y_train, n_classes)\n",
        "Y_test = np_utils.to_categorical(y_test, n_classes)\n",
        "print(\"Shape after one-hot encoding: \", Y_train.shape)"
      ],
      "execution_count": 15,
      "outputs": [
        {
          "output_type": "stream",
          "text": [
            "Shape before one-hot encoding:  (60000,)\n",
            "Shape after one-hot encoding:  (60000, 10)\n"
          ],
          "name": "stdout"
        }
      ]
    },
    {
      "metadata": {
        "id": "QzzIllUYjzWC",
        "colab_type": "text"
      },
      "cell_type": "markdown",
      "source": [
        "**Building the model**"
      ]
    },
    {
      "metadata": {
        "id": "bm6cSZ8FDSzy",
        "colab_type": "code",
        "colab": {
          "autoexec": {
            "startup": false,
            "wait_interval": 0
          }
        }
      },
      "cell_type": "code",
      "source": [
        "# building a linear stack of layers with the sequential model\n",
        "model = Sequential()\n",
        "model.add(Dense(512, input_shape=(784,)))\n",
        "model.add(Activation('relu'))                            \n",
        "model.add(Dropout(0.2))\n",
        "\n",
        "model.add(Dense(512))\n",
        "model.add(Activation('relu'))\n",
        "model.add(Dropout(0.2))\n",
        "\n",
        "model.add(Dense(10))\n",
        "model.add(Activation('softmax'))"
      ],
      "execution_count": 0,
      "outputs": []
    },
    {
      "metadata": {
        "id": "WOmKWB_dj4Mu",
        "colab_type": "text"
      },
      "cell_type": "markdown",
      "source": [
        "**Compiling the model**"
      ]
    },
    {
      "metadata": {
        "id": "nx_I9X3xDWW8",
        "colab_type": "code",
        "colab": {
          "autoexec": {
            "startup": false,
            "wait_interval": 0
          }
        }
      },
      "cell_type": "code",
      "source": [
        "# compiling the sequential model\n",
        "model.compile(loss='categorical_crossentropy', metrics=['accuracy'], optimizer='adagrad')"
      ],
      "execution_count": 0,
      "outputs": []
    },
    {
      "metadata": {
        "id": "rf_PPkiwj7sz",
        "colab_type": "text"
      },
      "cell_type": "markdown",
      "source": [
        "**Training the model**"
      ]
    },
    {
      "metadata": {
        "id": "G8GtK5PlDa03",
        "colab_type": "code",
        "colab": {
          "autoexec": {
            "startup": false,
            "wait_interval": 0
          },
          "output_extras": [
            {
              "item_id": 35
            }
          ],
          "base_uri": "https://localhost:8080/",
          "height": 714
        },
        "outputId": "3b71a0ad-91ff-4c41-b894-b15a958ba74e",
        "executionInfo": {
          "status": "ok",
          "timestamp": 1519824050176,
          "user_tz": -330,
          "elapsed": 56888,
          "user": {
            "displayName": "Pankaj Gavit",
            "photoUrl": "//lh4.googleusercontent.com/-N2TUe0WcZsk/AAAAAAAAAAI/AAAAAAAAAYU/ybaY7zkG-tU/s50-c-k-no/photo.jpg",
            "userId": "109139722584768441610"
          }
        }
      },
      "cell_type": "code",
      "source": [
        "# training the model and saving metrics in history\n",
        "history = model.fit(X_train, Y_train,\n",
        "          batch_size=128, epochs=20,\n",
        "          verbose=2,\n",
        "          validation_data=(X_test, Y_test))"
      ],
      "execution_count": 18,
      "outputs": [
        {
          "output_type": "stream",
          "text": [
            "Train on 60000 samples, validate on 10000 samples\n",
            "Epoch 1/20\n",
            " - 3s - loss: 0.2451 - acc: 0.9277 - val_loss: 0.1057 - val_acc: 0.9679\n",
            "Epoch 2/20\n",
            " - 3s - loss: 0.1031 - acc: 0.9685 - val_loss: 0.0828 - val_acc: 0.9745\n",
            "Epoch 3/20\n",
            " - 3s - loss: 0.0742 - acc: 0.9770 - val_loss: 0.0706 - val_acc: 0.9776\n",
            "Epoch 4/20\n",
            " - 3s - loss: 0.0577 - acc: 0.9829 - val_loss: 0.0641 - val_acc: 0.9795\n",
            "Epoch 5/20\n",
            " - 3s - loss: 0.0471 - acc: 0.9857 - val_loss: 0.0621 - val_acc: 0.9814\n",
            "Epoch 6/20\n",
            " - 3s - loss: 0.0397 - acc: 0.9881 - val_loss: 0.0589 - val_acc: 0.9816\n",
            "Epoch 7/20\n",
            " - 3s - loss: 0.0344 - acc: 0.9897 - val_loss: 0.0583 - val_acc: 0.9822\n",
            "Epoch 8/20\n",
            " - 3s - loss: 0.0292 - acc: 0.9912 - val_loss: 0.0561 - val_acc: 0.9831\n",
            "Epoch 9/20\n",
            " - 3s - loss: 0.0257 - acc: 0.9923 - val_loss: 0.0559 - val_acc: 0.9846\n",
            "Epoch 10/20\n",
            " - 3s - loss: 0.0237 - acc: 0.9928 - val_loss: 0.0564 - val_acc: 0.9844\n",
            "Epoch 11/20\n",
            " - 3s - loss: 0.0206 - acc: 0.9939 - val_loss: 0.0560 - val_acc: 0.9847\n",
            "Epoch 12/20\n",
            " - 3s - loss: 0.0181 - acc: 0.9948 - val_loss: 0.0544 - val_acc: 0.9850\n",
            "Epoch 13/20\n",
            " - 3s - loss: 0.0168 - acc: 0.9952 - val_loss: 0.0560 - val_acc: 0.9846\n",
            "Epoch 14/20\n",
            " - 3s - loss: 0.0143 - acc: 0.9960 - val_loss: 0.0559 - val_acc: 0.9849\n",
            "Epoch 15/20\n",
            " - 3s - loss: 0.0134 - acc: 0.9962 - val_loss: 0.0565 - val_acc: 0.9850\n",
            "Epoch 16/20\n",
            " - 3s - loss: 0.0123 - acc: 0.9965 - val_loss: 0.0559 - val_acc: 0.9849\n",
            "Epoch 17/20\n",
            " - 3s - loss: 0.0119 - acc: 0.9968 - val_loss: 0.0558 - val_acc: 0.9854\n",
            "Epoch 18/20\n",
            " - 3s - loss: 0.0101 - acc: 0.9974 - val_loss: 0.0556 - val_acc: 0.9855\n",
            "Epoch 19/20\n",
            " - 3s - loss: 0.0101 - acc: 0.9972 - val_loss: 0.0573 - val_acc: 0.9857\n",
            "Epoch 20/20\n",
            " - 3s - loss: 0.0092 - acc: 0.9976 - val_loss: 0.0573 - val_acc: 0.9846\n"
          ],
          "name": "stdout"
        }
      ]
    },
    {
      "metadata": {
        "id": "55_m04_CkBf6",
        "colab_type": "text"
      },
      "cell_type": "markdown",
      "source": [
        "**Plotting graph and results**"
      ]
    },
    {
      "metadata": {
        "id": "WzegV7fbGLnL",
        "colab_type": "code",
        "colab": {
          "autoexec": {
            "startup": false,
            "wait_interval": 0
          },
          "output_extras": [
            {
              "item_id": 1
            },
            {
              "item_id": 2
            }
          ],
          "base_uri": "https://localhost:8080/",
          "height": 435
        },
        "outputId": "c0f121e2-083b-4ab9-f592-73d83dc50386",
        "executionInfo": {
          "status": "ok",
          "timestamp": 1519824054706,
          "user_tz": -330,
          "elapsed": 4510,
          "user": {
            "displayName": "Pankaj Gavit",
            "photoUrl": "//lh4.googleusercontent.com/-N2TUe0WcZsk/AAAAAAAAAAI/AAAAAAAAAYU/ybaY7zkG-tU/s50-c-k-no/photo.jpg",
            "userId": "109139722584768441610"
          }
        }
      },
      "cell_type": "code",
      "source": [
        "# plotting the metrics\n",
        "fig = plt.figure()\n",
        "plt.subplot(2,1,1)\n",
        "plt.plot(history.history['acc'])\n",
        "plt.plot(history.history['val_acc'])\n",
        "plt.title('model accuracy')\n",
        "plt.ylabel('accuracy')\n",
        "plt.xlabel('epoch')\n",
        "plt.legend(['train', 'test'], loc='lower right')\n",
        "\n",
        "plt.subplot(2,1,2)\n",
        "plt.plot(history.history['loss'])\n",
        "plt.plot(history.history['val_loss'])\n",
        "plt.title('model loss')\n",
        "plt.ylabel('loss')\n",
        "plt.xlabel('epoch')\n",
        "plt.legend(['train', 'test'], loc='upper right')\n",
        "\n",
        "plt.tight_layout()\n",
        "\n",
        "fig\n",
        "\n",
        "loss_and_metrics = model.evaluate(X_test, Y_test, verbose=2)\n",
        "\n",
        "print(\"Test Loss\", loss_and_metrics[0])\n",
        "print(\"Test Accuracy\", loss_and_metrics[1]*100 ,\"%\")"
      ],
      "execution_count": 19,
      "outputs": [
        {
          "output_type": "stream",
          "text": [
            "Test Loss 0.057253788807183445\n",
            "Test Accuracy 98.46000000000001 %\n"
          ],
          "name": "stdout"
        },
        {
          "output_type": "display_data",
          "data": {
            "image/png": "[encoded data removed]",
            "text/plain": [
              "<matplotlib.figure.Figure at 0x7f5c23f23550>"
            ]
          },
          "metadata": {
            "tags": []
          }
        }
      ]
    }
  ]
}